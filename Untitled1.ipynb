{
  "nbformat": 4,
  "nbformat_minor": 0,
  "metadata": {
    "colab": {
      "provenance": [],
      "authorship_tag": "ABX9TyP/3yhLB6kkkflQkzneGtsj",
      "include_colab_link": true
    },
    "kernelspec": {
      "name": "python3",
      "display_name": "Python 3"
    },
    "language_info": {
      "name": "python"
    }
  },
  "cells": [
    {
      "cell_type": "markdown",
      "metadata": {
        "id": "view-in-github",
        "colab_type": "text"
      },
      "source": [
        "<a href=\"https://colab.research.google.com/github/Hanish-DotCom/assingnment/blob/main/Untitled1.ipynb\" target=\"_parent\"><img src=\"https://colab.research.google.com/assets/colab-badge.svg\" alt=\"Open In Colab\"/></a>"
      ]
    },
    {
      "cell_type": "code",
      "execution_count": 2,
      "metadata": {
        "colab": {
          "base_uri": "https://localhost:8080/"
        },
        "id": "fsD5AnAKqXrR",
        "outputId": "f5683bec-6d7d-47d4-f6f3-90832d477604"
      },
      "outputs": [
        {
          "output_type": "stream",
          "name": "stdout",
          "text": [
            "Rohit sharma was seen playing with his kids akaay and vamika's at lahore\n",
            "do you want to generate another fake news headline yes/no:yes\n",
            "Donald trump was seen doing handshake with pakistan prime minister at the streets of mumbai\n",
            "do you want to generate another fake news headline yes/no:yes\n",
            "Elvish yadav was found fighting with donald trump at scotlands temple\n",
            "do you want to generate another fake news headline yes/no:yes\n",
            "Donald trump was seen doing handshake with pakistan prime minister at scotlands temple\n",
            "do you want to generate another fake news headline yes/no:yes\n",
            "Donald trump was seen doing handshake with pakistan prime minister at lahore\n",
            "do you want to generate another fake news headline yes/no:yes\n",
            "Donald trump was seen doing handshake with pakistan prime minister at the streets of mumbai\n",
            "do you want to generate another fake news headline yes/no:yes\n",
            "Elvish yadav was found fighting with donald trump at the streets of mumbai\n",
            "do you want to generate another fake news headline yes/no:yes\n",
            "Narender modi was eating vadapav at the streets of mumbai\n",
            "do you want to generate another fake news headline yes/no:yes\n",
            "Donald trump was seen playing with his kids akaay and vamika's at their own house\n",
            "do you want to generate another fake news headline yes/no:no\n",
            "bye\n"
          ]
        }
      ],
      "source": [
        "# python mini project fake news headline generator .\n",
        "\n",
        "\n",
        "\n",
        "\n",
        "import random\n",
        "\n",
        "subjects = [\n",
        "    \"Virat kholi\",\n",
        "    \"Rohit sharma\",\n",
        "    \"Narender modi\",\n",
        "    \"Elvish yadav\",\n",
        "    \"Donald trump\",\n",
        "]\n",
        "\n",
        "activity = [\n",
        "    \"was seen playing with his kids akaay and vamika's\",\n",
        "    \"was eating vadapav\",\n",
        "    \"was found fighting with donald trump\",\n",
        "    \"was seen making vlogs\",\n",
        "    \"was seen doing handshake with pakistan prime minister\",\n",
        "]\n",
        "\n",
        "location = [\n",
        "    \"at their own house\",\n",
        "    \"at the streets of mumbai\",\n",
        "    \"at G20 submitt\",\n",
        "    \"at scotlands temple\",\n",
        "    \"at lahore\"\n",
        "]\n",
        "\n",
        "\n",
        "while True:\n",
        "    sub = random.choice(subjects)\n",
        "    act = random.choice(activity)\n",
        "    loc = random.choice(location)\n",
        "\n",
        "    print(f\"{sub} {act} {loc}\")\n",
        "    user_input = input(\"do you want to generate another fake news headline yes/no:\").strip().lower()\n",
        "    if user_input != \"yes\":\n",
        "          print(\"bye\")\n",
        "          break\n"
      ]
    }
  ]
}