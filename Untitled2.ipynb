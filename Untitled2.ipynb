{
  "nbformat": 4,
  "nbformat_minor": 0,
  "metadata": {
    "colab": {
      "provenance": [],
      "authorship_tag": "ABX9TyO96Yvs9x2f3FKLl5+nS/Kc",
      "include_colab_link": true
    },
    "kernelspec": {
      "name": "python3",
      "display_name": "Python 3"
    },
    "language_info": {
      "name": "python"
    }
  },
  "cells": [
    {
      "cell_type": "markdown",
      "metadata": {
        "id": "view-in-github",
        "colab_type": "text"
      },
      "source": [
        "<a href=\"https://colab.research.google.com/github/Hanish-DotCom/assingnment/blob/main/Untitled2.ipynb\" target=\"_parent\"><img src=\"https://colab.research.google.com/assets/colab-badge.svg\" alt=\"Open In Colab\"/></a>"
      ]
    },
    {
      "cell_type": "code",
      "execution_count": 1,
      "metadata": {
        "colab": {
          "base_uri": "https://localhost:8080/"
        },
        "id": "mYUIRwL9pCrq",
        "outputId": "56d22e27-56a7-45f6-c4a6-2d2f6b5ec7a6"
      },
      "outputs": [
        {
          "output_type": "stream",
          "name": "stdout",
          "text": [
            "How many headlines do you want to generate?: 2\n",
            "\n",
            "Generating Headlines...\n",
            "\n",
            "=============================\n",
            " FAKE NEWS HEADLINES \n",
            "=============================\n",
            "\n",
            "1. Narendra Modi found eating gobar a rabbit!\n",
            "2. Donald Trump arguing with students in Delhi!\n",
            "\n",
            "Do you want to generate more? (yes/no): yes\n",
            "How many headlines do you want to generate?: 4\n",
            "\n",
            "Generating Headlines...\n",
            "\n",
            "=============================\n",
            " FAKE NEWS HEADLINES \n",
            "=============================\n",
            "\n",
            "1. Nirmala Sitharaman arguing with a robot!\n",
            "2. Donald Trump launches new app for a rabbit!\n",
            "3. Virat Kohli found eating gobar students in Delhi!\n",
            "4. Virat Kohli dancing on students in Delhi!\n",
            "\n",
            "Do you want to generate more? (yes/no): no\n",
            "\n",
            "Thanks for using Fake News Headline Generator!\n"
          ]
        }
      ],
      "source": [
        "import random\n",
        "\n",
        "subjects = [\"Narendra Modi\", \"Virat Kohli\", \"Priyanka Chopra\", \"Donald Trump\", \"Nirmala Sitharaman\"]\n",
        "\n",
        "actions = [\"found eating gobar\", \"dancing on\", \"caught sleeping at\", \"launches new app for\", \"arguing with\"]\n",
        "\n",
        "objects = [\"the moon\", \"the Parliament\", \"a rabbit\", \"students in Delhi\", \"a robot\"]\n",
        "\n",
        "\n",
        "def generate_headline():\n",
        "    subject = random.choice(subjects)\n",
        "    action = random.choice(actions)\n",
        "    obj = random.choice(objects)\n",
        "    headline = f\"{subject} {action} {obj}!\"\n",
        "    return headline\n",
        "\n",
        "def main():\n",
        "    print(\"=============================\")\n",
        "    print(\" FAKE NEWS HEADLINES \")\n",
        "    print(\"=============================\")\n",
        "\n",
        "while True:\n",
        "    try:\n",
        "        count = int(input(\"How many headlines do you want to generate?: \"))\n",
        "        print(\"\\nGenerating Headlines...\\n\")\n",
        "\n",
        "        main()\n",
        "        print()\n",
        "        for i in range(count):\n",
        "            print(f\"{i+1}. {generate_headline()}\")\n",
        "\n",
        "        again = input(\"\\nDo you want to generate more? (yes/no): \").strip().lower()\n",
        "        if again != \"yes\":\n",
        "            print(\"\\nThanks for using Fake News Headline Generator!\")\n",
        "            break\n",
        "\n",
        "    except ValueError:\n",
        "        print(\"Please enter a valid number.\")\n",
        "\n",
        "if __name__ == \"main\":\n",
        "    main()"
      ]
    }
  ]
}